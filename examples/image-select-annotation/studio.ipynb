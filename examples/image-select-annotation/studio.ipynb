{
 "cells": [
  {
   "cell_type": "markdown",
   "id": "dfc7a1c3-6683-4646-b50d-4ba4b61a3f3b",
   "metadata": {},
   "source": [
    "# Labeling"
   ]
  },
  {
   "cell_type": "code",
   "execution_count": 1,
   "id": "aeb4d2d1-fbb6-45f6-ab22-67a5706e43ab",
   "metadata": {},
   "outputs": [],
   "source": [
    "source_groups = [\n",
    "    [\"./surprized-pikachu.png\"] * 16,\n",
    "    [\"./surprized-pikachu.png\"] * 7,\n",
    "    [\"./surprized-pikachu.png\"] * 8,\n",
    "    [\"./surprized-pikachu.png\"] * 4,\n",
    "]"
   ]
  },
  {
   "cell_type": "code",
   "execution_count": 2,
   "id": "15c357f8-00cf-4f1a-8bff-941bb55c8eaa",
   "metadata": {},
   "outputs": [],
   "source": [
    "from ipyezannotation.studio.sample import Sample, SampleStatus\n",
    "\n",
    "samples = [\n",
    "    Sample(\n",
    "        status=SampleStatus.PENDING,\n",
    "        data=group,\n",
    "        annotation=None\n",
    "    )\n",
    "    for group in source_groups\n",
    "]"
   ]
  },
  {
   "cell_type": "code",
   "execution_count": 3,
   "id": "c445b94e-5a42-4309-acbb-28561caae6cd",
   "metadata": {},
   "outputs": [],
   "source": [
    "from ipyezannotation.studio.storage.sqlite import SQLiteDatabase\n",
    "\n",
    "samples_db = SQLiteDatabase(\"sqlite:///:memory:\")\n",
    "synced_samples = samples_db.sync(samples)"
   ]
  },
  {
   "cell_type": "code",
   "execution_count": 4,
   "id": "7838daa5-29ef-4fd6-bf2f-689532111512",
   "metadata": {},
   "outputs": [
    {
     "data": {
      "application/vnd.jupyter.widget-view+json": {
       "model_id": "7cb71735533b40a885407cb4bb95893f",
       "version_major": 2,
       "version_minor": 0
      },
      "text/plain": [
       "Studio(children=(VBox(), HBox(children=(MultiProgress(children=(FloatProgress(value=1.0, layout=Layout(margin=…"
      ]
     },
     "execution_count": 4,
     "metadata": {},
     "output_type": "execute_result"
    }
   ],
   "source": [
    "from ipyezannotation.studio import Studio\n",
    "from ipyezannotation.annotators import ImageSelectAnnotator\n",
    "\n",
    "studio = Studio(\n",
    "    annotator=ImageSelectAnnotator(n_columns=8),\n",
    "    database=samples_db\n",
    ")\n",
    "studio"
   ]
  },
  {
   "cell_type": "code",
   "execution_count": null,
   "id": "18dcb0b8-c5a7-4f64-a0e7-fc39d5799bd2",
   "metadata": {},
   "outputs": [],
   "source": []
  }
 ],
 "metadata": {
  "kernelspec": {
   "display_name": "Python 3 (ipykernel)",
   "language": "python",
   "name": "python3"
  },
  "language_info": {
   "codemirror_mode": {
    "name": "ipython",
    "version": 3
   },
   "file_extension": ".py",
   "mimetype": "text/x-python",
   "name": "python",
   "nbconvert_exporter": "python",
   "pygments_lexer": "ipython3",
   "version": "3.9.13"
  }
 },
 "nbformat": 4,
 "nbformat_minor": 5
}
